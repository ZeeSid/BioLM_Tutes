{
  "metadata": {
    "kernelspec": {
      "name": "python",
      "display_name": "Python (Pyodide)",
      "language": "python"
    },
    "language_info": {
      "codemirror_mode": {
        "name": "python",
        "version": 3
      },
      "file_extension": ".py",
      "mimetype": "text/x-python",
      "name": "python",
      "nbconvert_exporter": "python",
      "pygments_lexer": "ipython3",
      "version": "3.8"
    }
  },
  "nbformat_minor": 5,
  "nbformat": 4,
  "cells": [
    {
      "cell_type": "markdown",
      "source": "<div class=\"jupyter-biolm-header\">\n    <img style=\"float: left; padding-right: 10px; height: 60px\" src=\"https://d31e6ufxekikrt.cloudfront.net/static/ui/images/logo.png\">\n    <p>\n    <br>\n    <br>\n    <br>\n    </p>\n</div>\n\n# ProteInfer API\n\nProteInfer uses convolutional neural networks for direct prediction of protein functions from amino acid sequences. It specializes in identifying Enzyme Commission numbers and Gene Ontology terms, enhancing protein functional annotation.\n\n<br>\n\n<table class=\"jupyter-biolm-header-table\" style=\"width: 100%; border-collapse: collapse; background-color: white; float: left;\">\n    <tr>\n        <td style=\"text-align: left; vertical-align: middle; background-color: white;\">\n            <img src=\"https://www.svgrepo.com/show/354202/postman-icon.svg\" style=\"height: 15px; float: left; padding-right: 10px;\"><a href=\"https://api.biolm.ai/#9bcdd520-f163-4624-bd55-ff73103526a5\">  <h5 style=\"margin: 0;\"><b>Postman API Docs</b></h5></a>\n        </td>\n        <td style=\"text-align: left; vertical-align: middle; background-color: white;\">\n            <img src=\"https://upload.wikimedia.org/wikipedia/commons/thumb/c/c3/Python-logo-notext.svg/1869px-Python-logo-notext.svg.png\" style=\"height: 15px; float: left; padding-right: 10px;\"><a href=\"https://docs.biolm.ai/en/latest/model-docs/proteinfer/ProteInfer_API.html\"><h5 style=\"margin: 0;\"><b>Python SDK Docs</b></h5></a>\n        </td>\n        <td style=\"text-align: left; vertical-align: middle; background-color: white;\">\n            <img src=\"https://github.githubassets.com/assets/GitHub-Mark-ea2971cee799.png\" style=\"height: 15px; float: left; padding-right: 10px;\"><a href=\"https://github.com/google-research/proteinfer\"><h5 style=\"margin: 0;\"><b>Github Link</b></h5></a>\n        </td>\n        <td style=\"text-align: left; vertical-align: middle; background-color: white;\">\n            <img src=\"https://info.arxiv.org/brand/images/brand-logomark-primary-large.jpg\" style=\"height: 15px; float: left; padding-right: 10px;\"><a href=\"https://google-research.github.io/proteinfer/\"><h5 style=\"margin: 0;\"><b>Paper Link</b></h5></a>\n        </td>\n    </tr>\n</table>\n\n<br>\n\n---",
      "metadata": {},
      "id": "8d1e11b2"
    },
    {
      "cell_type": "markdown",
      "source": "## Set Your API Token\n\nIn order to use the BioLM API, you need to have a token. You can get one from\nthe [User API Tokens](https://biolm.ai/ui/accounts/user-api-tokens/) page.\n\nPaste the API token you generated in the cell below, as the value\nof the variable `BIOLMAI_TOKEN `.",
      "metadata": {},
      "id": "6b7a87ff"
    },
    {
      "cell_type": "code",
      "source": "BIOLMAI_TOKEN = \" \"  # !!! YOUR API TOKEN HERE !!!",
      "metadata": {
        "trusted": true
      },
      "execution_count": 1,
      "outputs": [],
      "id": "047d4592"
    },
    {
      "cell_type": "markdown",
      "source": "## API Call with Python requests",
      "metadata": {},
      "id": "0e37d82c"
    },
    {
      "cell_type": "markdown",
      "source": "We need to make sure we have the requisite package first, mainly Python `requests`.",
      "metadata": {},
      "id": "3cf4ec64-d485-49d0-bbf1-f569e8ad6252"
    },
    {
      "cell_type": "code",
      "source": "try:\n    # Install packages to make API requests in JLite\n    import micropip\n    await micropip.install('requests')\n    await micropip.install('pyodide-http')\n    # Patch requests for in-browser support\n    import pyodide_http\n    pyodide_http.patch_all()\nexcept ModuleNotFoundError:\n    pass  # Won't be using micropip outside of JLite\n\nimport requests\nfrom IPython.display import JSON  # Helpful UI for JSON display",
      "metadata": {
        "trusted": true
      },
      "execution_count": 5,
      "outputs": [],
      "id": "c456bb4c-c4bb-4634-b271-78c183b5ffb0"
    },
    {
      "cell_type": "markdown",
      "source": "### ProteInfer EC (Enzyme Commission) Prediction",
      "metadata": {},
      "id": "6ad84753"
    },
    {
      "cell_type": "code",
      "source": "SLUG = 'proteinfer-ec'\nACTION = 'predict'\n\nurl = f\"https://biolm.ai/api/v2/{SLUG}/{ACTION}/\"\n\nheaders = {\n    \"Content-Type\": \"application/json\",\n    \"Authorization\": f\"Token {BIOLMAI_TOKEN.strip()}\",\n}\n\ndata = {\n    \"items\": [\n        {\n            \"sequence\": \"MMQTVLAKIVADKAIWVEARKQQQPLASFQNEVQPSTRHFYDALQGARTAFILECKKASPSKGVIRDDFDPARIAAIYKHYASAISVLTDEKYFQGSFNFLPIVSQIAPQPILCKDFIIDPYQIYLARYYQADACLLMLSVLDDDQYRQLAAVAHSLEMGVLTEVSNEEEQERAIALGAKVVGINNRDLRDLSIDLNRTRELAPKLGHNVTVISESGINTYAQVRELSHFANGFLIGSALMAHDDLHAAVRRVLLGENKVCGLTRGQDAKAAYDAGAIYGGLIFVATSPRCVNVEQAQEVMAAAPLQYVGVFRNHDIADVVDKAKVLSLAAVQLHGNEEQLYIDTLREALPAHVAIWKALSVGETLPAREFQHVDKYVLDNGQGGSGQRFDWSLLNGQSLGNVLLAGGLGADNCVEAAQTGCAGLDFNSAVESQPGIKDARLLASVFQTLRAY\",\n\n        },\n    ]\n}\n\n# Make the request\nresponse = requests.post(\n    url=url,\n    headers=headers,\n    json=data,\n)\n\nresult = response.json()\nresult",
      "metadata": {
        "scrolled": true,
        "trusted": true
      },
      "execution_count": 7,
      "outputs": [
        {
          "execution_count": 7,
          "output_type": "execute_result",
          "data": {
            "text/plain": "{'results': [{'sequence_id': '0',\n   'predictions': [{'label': 'EC:4.-.-.-',\n     'confidence': 1.0,\n     'description': 'Lyases.'},\n    {'label': 'EC:4.1.-.-',\n     'confidence': 1.0,\n     'description': 'Carbon-carbon lyases.'},\n    {'label': 'EC:4.1.1.-',\n     'confidence': 1.0,\n     'description': 'Carboxy-lyases.'},\n    {'label': 'EC:4.1.1.48',\n     'confidence': 1.0,\n     'description': 'Indole-3-glycerol-phosphate synthase.'},\n    {'label': 'EC:5.-.-.-', 'confidence': 1.0, 'description': 'Isomerases.'},\n    {'label': 'EC:5.3.-.-',\n     'confidence': 1.0,\n     'description': 'Intramolecular oxidoreductases.'},\n    {'label': 'EC:5.3.1.-',\n     'confidence': 1.0,\n     'description': 'Interconverting aldoses and ketoses.'},\n    {'label': 'EC:5.3.1.24',\n     'confidence': 1.0,\n     'description': 'Phosphoribosylanthranilate isomerase.'}]}]}"
          },
          "metadata": {}
        }
      ],
      "id": "a98e00ce"
    },
    {
      "cell_type": "code",
      "source": "",
      "metadata": {},
      "execution_count": null,
      "outputs": [],
      "id": "400124ff"
    },
    {
      "cell_type": "markdown",
      "source": "### ProteInfer GO (Gene Ontology) Prediction",
      "metadata": {},
      "id": "23e5a81a"
    },
    {
      "cell_type": "code",
      "source": "SLUG = 'proteinfer-go'\nACTION = 'predict'\n\nurl = f\"https://biolm.ai/api/v2/{SLUG}/{ACTION}/\"\n\nheaders = {\n    \"Content-Type\": \"application/json\",\n    \"Authorization\": f\"Token {BIOLMAI_TOKEN.strip()}\",\n}\n\ndata = {\n    \"items\": [\n        {\n            \"sequence\": \"MSQCCCRQVLLGVEVSIVVMALVAGGAGQTHDSRAAGSSCYGGFDLYFVLDKSGSVQHYWNEIFYFVHHLAHKFISPQMRMSFIVFSTDGRTLMALTEDRDKIRAGLEELRMVQPGGDTYMDRGLHRASEQIYYAAGDGYRAASVIIALTDGELREDQFDTAQREAGRARQLGASVYCVGLKDFNETQLSTIADSKDHVFPVHDGFEALQSVIDSILKRSCIEILAVQPSSICEGGEDEEQRHPESFQVVVKGNGFLHARDVQKVLCSFRVNDTLTLMKRPLVVRDTYLLCPAPLLEREGTSATLHVSMNNGLSFISSSVTIEAVACSDGTFVAVALLILMLLLTLVLLWWFWPLCCTVVRPPSWISVRKTPVKPPPSFEVWSSFPLFCLQVVHEPPPPVAEDDSDDEEGLPKKKWPTVDASYYGGRGVGGIKRMEVRWGDKGSTEEGAKLEKAKNARVVMPTEEESLARPYHAAHKPVRSHKWYSPIKGKLDALCVFLRKGYDRVSIMRPLPGDKGKCINFTRSRSYPVTRYPVYRPPPTPIYTLPHGHQRRPSDDSNLFQLPPSPTSKLPPLPSLHPSSCATLPVYSRHPDLFSAPPSPTGSLPPPPQAPPLCRAPPPSRPPPRPN\",\n\n        },\n    ]\n}\n\n# Make the request\nresponse = requests.post(\n    url=url,\n    headers=headers,\n    json=data,\n)\n\nresult = response.json()\nresult",
      "metadata": {
        "scrolled": true,
        "trusted": true
      },
      "execution_count": 4,
      "outputs": [
        {
          "execution_count": 4,
          "output_type": "execute_result",
          "data": {
            "text/plain": "{'results': [{'sequence_id': '0',\n   'predictions': [{'label': 'GO:0005488',\n     'confidence': 1.0,\n     'description': 'binding'},\n    {'label': 'GO:0008150',\n     'confidence': 1.0,\n     'description': 'biological_process'},\n    {'label': 'GO:0044464', 'confidence': 1.0, 'description': 'cell part'},\n    {'label': 'GO:0005575',\n     'confidence': 1.0,\n     'description': 'cellular_component'},\n    {'label': 'GO:0016021',\n     'confidence': 1.0,\n     'description': 'integral component of membrane'},\n    {'label': 'GO:0031224',\n     'confidence': 1.0,\n     'description': 'intrinsic component of membrane'},\n    {'label': 'GO:0044425', 'confidence': 1.0, 'description': 'membrane part'},\n    {'label': 'GO:0003674',\n     'confidence': 1.0,\n     'description': 'molecular_function'},\n    {'label': 'GO:0065007',\n     'confidence': 0.9999992847442627,\n     'description': 'biological regulation'},\n    {'label': 'GO:0046872',\n     'confidence': 0.9999992847442627,\n     'description': 'metal ion binding'},\n    {'label': 'GO:0043169',\n     'confidence': 0.9999990463256836,\n     'description': 'cation binding'},\n    {'label': 'GO:0016020',\n     'confidence': 0.9999864101409912,\n     'description': 'membrane'},\n    {'label': 'GO:0007165',\n     'confidence': 0.9999784231185913,\n     'description': 'signal transduction'},\n    {'label': 'GO:0043167',\n     'confidence': 0.9999719858169556,\n     'description': 'ion binding'},\n    {'label': 'GO:1901998',\n     'confidence': 0.9998838901519775,\n     'description': 'toxin transport'},\n    {'label': 'GO:0060089',\n     'confidence': 0.9997674822807312,\n     'description': 'molecular transducer activity'},\n    {'label': 'GO:0038023',\n     'confidence': 0.9996358156204224,\n     'description': 'signaling receptor activity'},\n    {'label': 'GO:0004888',\n     'confidence': 0.9989659786224365,\n     'description': 'transmembrane signaling receptor activity'},\n    {'label': 'GO:0050789',\n     'confidence': 0.9988377690315247,\n     'description': 'regulation of biological process'},\n    {'label': 'GO:0004896',\n     'confidence': 0.9984742999076843,\n     'description': 'cytokine receptor activity'}]}]}"
          },
          "metadata": {}
        }
      ],
      "id": "a573ab13"
    },
    {
      "cell_type": "markdown",
      "source": "## Next Steps\n\nCheck out additional tutorials at [jupyter.biolm.ai](https://jupyter.biolm.ai),\nor head over to our [BioLM Documentation](https://docs.biolm.ai) to explore\nadditional models and functionality.\n\n#### See more use-cases and APIs on your [BioLM Console Catalog](https://biolm.ai/console/catalog/).\n<br>\n\n##### BioLM hosts deep learning models and runs inference at scale. You do the science.\n<br>\n\n<table class=\"jupyter-biolm-header-table\" style=\"width: 100%; border-collapse: collapse; background-color: white; float: left;\">\n    <tr>\n        <td style=\"text-align: left; vertical-align: middle; background-color: white;\">\n            <img src=\"https://d31e6ufxekikrt.cloudfront.net/static/ui/images/console-overview/enzyme_engineering_icon.png\"  style=\"height: 40px; float: left; padding-right: 10px;\"> Enzyme Engineering\n        </td>\n        <td style=\"text-align: left; vertical-align: middle; background-color: white;\">\n            <img src=\"https://d31e6ufxekikrt.cloudfront.net/static/ui/images/console-overview/antibody_engineering_icon.png\"  style=\"height: 40px; float: left; padding-right: 10px;\"> Antibody Engineering\n        </td>\n        <td style=\"text-align: left; vertical-align: middle; background-color: white;\">\n            <img src=\"https://d31e6ufxekikrt.cloudfront.net/static/ui/images/console-overview/biosecurity_icon.png\"  style=\"height: 40px; float: left; padding-right: 10px;\"> Biosecurity\n        </td>\n    </tr>\n    <tr>\n        <td style=\"text-align: left; vertical-align: middle; background-color: white;\">\n            <img src=\"https://d31e6ufxekikrt.cloudfront.net/static/ui/images/console-overview/single_cell_genomics_icon.png\"  style=\"height: 40px; float: left; padding-right: 10px;\"> Single-Cell Genomics\n        </td>\n        <td style=\"text-align: left; vertical-align: middle; background-color: white;\">\n            <img src=\"https://d31e6ufxekikrt.cloudfront.net/static/ui/images/console-overview/dna_seq_modeling_icon.png\"  style=\"height: 40px; float: left; padding-right: 10px;\"> DNA Sequence Modelling\n        </td>\n        <td style=\"text-align: left; vertical-align: middle; background-color: white;\">\n            <img src=\"https://d31e6ufxekikrt.cloudfront.net/static/ui/images/console-overview/finetuning_icon.png\"  style=\"height: 40px; float: left; padding-right: 10px;\"> Finetuning\n        </td>\n    </tr>\n</table>\n\n#### [**Contact us**](https://biolm.ai/ui/contact-us/) to learn more.\n",
      "metadata": {
        "tags": []
      },
      "id": "a04f63cb"
    },
    {
      "cell_type": "code",
      "source": "",
      "metadata": {},
      "execution_count": null,
      "outputs": [],
      "id": "48ce8513"
    }
  ]
}